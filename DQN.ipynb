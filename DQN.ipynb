{
 "cells": [
  {
   "cell_type": "code",
   "execution_count": 1,
   "metadata": {},
   "outputs": [],
   "source": [
    "from collections import namedtuple\n",
    "import random\n",
    "import torch.nn as nn\n",
    "from itertools import count\n",
    "from PIL import Image\n",
    "import torch\n",
    "import torch.optim as optim\n",
    "import torch.nn.functional as F\n",
    "import torchvision.transforms as T\n",
    "\n",
    "Transition=namedtuple('Transition',\n",
    "                        ('state', 'action', 'reward', 'next_state'))\n",
    "\n",
    "class ReplayMemory(object):\n",
    "    def __init__(self,capacity):\n",
    "        self.capacity=capacity\n",
    "        self.memory=[]\n",
    "        self.position=0\n",
    "    def push(self,*args):\n",
    "        if len(self.memory)<self.capacity:\n",
    "            self.memory.append(None)\n",
    "        self.memory[self.position]=Transition(*args)\n",
    "        self.position=(self.position+1)%self.capacity\n",
    "\n",
    "    def sample(self,batch_size):\n",
    "        return random.sample(self.memory,batch_size)\n",
    "\n",
    "    def __len__(self):\n",
    "        return len(self.memory)\n",
    "\n",
    "class DQN(nn.Module):\n",
    "    def __init__(self,h,w,outputs):\n",
    "        super(DQN,self).__init__()\n",
    "        self.conv1=nn.Conv2d(3,16,3,1,1)\n",
    "        self.bn1=nn.BatchNorm2d(16)\n",
    "        self.conv2=nn.Conv2d(16,32,3,1,1)\n",
    "        self.bn2=nn.BatchNorm2d(32)\n",
    "        self.conv3=nn.Conv2d(32,32,3,1,1)\n",
    "\n",
    "        self.fc1=nn.Linear(h*w*32,500*32)\n",
    "        self.fc2=nn.Linear(500*32,32)\n",
    "        self.fc3=nn.Linear(32,outputs)\n",
    "    def forward(self,x):\n",
    "        x=F.relu(self.bn1(self.conv1(x)))\n",
    "        x=F.relu((self.bn2(self.conv2(x))))\n",
    "        x = F.relu((self.bn3(self.conv3(x))))\n",
    "        x=x.view(-1,500*500*32)\n",
    "        x=F.relu(self.fc1(x))\n",
    "        x=F.relu(self.fc2(x))\n",
    "        x=self.fc3(x)\n",
    "\n",
    "        return x\n",
    "\n",
    "resize=T.Compose([T.ToPILImage(),\n",
    "                  T.ToTensor()])\n",
    "\n"
   ]
  },
  {
   "cell_type": "code",
   "execution_count": null,
   "metadata": {},
   "outputs": [],
   "source": []
  }
 ],
 "metadata": {
  "kernelspec": {
   "display_name": "Python 3",
   "language": "python",
   "name": "python3"
  },
  "language_info": {
   "codemirror_mode": {
    "name": "ipython",
    "version": 3
   },
   "file_extension": ".py",
   "mimetype": "text/x-python",
   "name": "python",
   "nbconvert_exporter": "python",
   "pygments_lexer": "ipython3",
   "version": "3.7.4"
  }
 },
 "nbformat": 4,
 "nbformat_minor": 2
}
